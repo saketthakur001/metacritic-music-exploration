{
 "cells": [
  {
   "cell_type": "code",
   "execution_count": 11,
   "metadata": {},
   "outputs": [
    {
     "ename": "ModuleNotFoundError",
     "evalue": "No module named 'PIL'",
     "output_type": "error",
     "traceback": [
      "\u001b[1;31m---------------------------------------------------------------------------\u001b[0m",
      "\u001b[1;31mModuleNotFoundError\u001b[0m                       Traceback (most recent call last)",
      "Cell \u001b[1;32mIn[11], line 2\u001b[0m\n\u001b[0;32m      1\u001b[0m \u001b[38;5;28;01mimport\u001b[39;00m \u001b[38;5;21;01mpyautogui\u001b[39;00m\n\u001b[1;32m----> 2\u001b[0m \u001b[38;5;28;01mimport\u001b[39;00m \u001b[38;5;21;01mpyscreeze\u001b[39;00m\n\u001b[0;32m      3\u001b[0m \u001b[38;5;28;01mimport\u001b[39;00m \u001b[38;5;21;01mPIL\u001b[39;00m\n",
      "File \u001b[1;32m~\\AppData\\Roaming\\Python\\Python312\\site-packages\\pyscreeze\\__init__.py:17\u001b[0m\n\u001b[0;32m     13\u001b[0m \u001b[38;5;28;01mimport\u001b[39;00m \u001b[38;5;21;01merrno\u001b[39;00m\n\u001b[0;32m     15\u001b[0m \u001b[38;5;28;01mfrom\u001b[39;00m \u001b[38;5;21;01mcontextlib\u001b[39;00m \u001b[38;5;28;01mimport\u001b[39;00m contextmanager\n\u001b[1;32m---> 17\u001b[0m \u001b[38;5;28;01mfrom\u001b[39;00m \u001b[38;5;21;01mPIL\u001b[39;00m \u001b[38;5;28;01mimport\u001b[39;00m Image\n\u001b[0;32m     18\u001b[0m \u001b[38;5;28;01mfrom\u001b[39;00m \u001b[38;5;21;01mPIL\u001b[39;00m \u001b[38;5;28;01mimport\u001b[39;00m ImageOps\n\u001b[0;32m     19\u001b[0m \u001b[38;5;28;01mfrom\u001b[39;00m \u001b[38;5;21;01mPIL\u001b[39;00m \u001b[38;5;28;01mimport\u001b[39;00m ImageDraw\n",
      "\u001b[1;31mModuleNotFoundError\u001b[0m: No module named 'PIL'"
     ]
    }
   ],
   "source": [
    "import pyautogui\n",
    "import pyscreeze\n",
    "import PIL\n"
   ]
  },
  {
   "cell_type": "code",
   "execution_count": 1,
   "metadata": {},
   "outputs": [
    {
     "name": "stdout",
     "output_type": "stream",
     "text": [
      "3.12.3 (tags/v3.12.3:f6650f9, Apr  9 2024, 14:05:25) [MSC v.1938 64 bit (AMD64)]\n",
      "10.3.0\n"
     ]
    }
   ],
   "source": [
    "import sys\n",
    "print(sys.version)  # Print Python version\n",
    "\n",
    "import PIL\n",
    "print(PIL.__version__)  # Print Pillow version"
   ]
  },
  {
   "cell_type": "code",
   "execution_count": 1,
   "metadata": {},
   "outputs": [
    {
     "name": "stdout",
     "output_type": "stream",
     "text": [
      "Image found and clicked!\n",
      "An error occurred: 'str' object cannot be interpreted as an integer\n"
     ]
    }
   ],
   "source": [
    "import pyautogui\n",
    "import webbrowser\n",
    "import time\n",
    "\n",
    "webbrowser.open(\"https://hrms.accessassist.in/\")\n",
    "time.sleep(2)\n",
    "\n",
    "image_path = \"Screenshot 2024-05-29 225016.png\"\n",
    "\n",
    "while True:\n",
    "    try:\n",
    "        location = pyautogui.locateOnScreen(image_path)\n",
    "        if location:\n",
    "            center = pyautogui.center(location)\n",
    "            pyautogui.click(center)\n",
    "            print(\"Image found and clicked!\")\n",
    "            pyautogui.hotkey('ctrl', 'w')\n",
    "            break\n",
    "        else:\n",
    "            print(\"Image not found, retrying...\")\n",
    "            time.sleep(1)\n",
    "    except Exception as e:\n",
    "        print(f\"An error occurred: {e}\")\n",
    "        break\n"
   ]
  },
  {
   "cell_type": "code",
   "execution_count": 13,
   "metadata": {},
   "outputs": [
    {
     "name": "stdout",
     "output_type": "stream",
     "text": [
      "3.12.3 (tags/v3.12.3:f6650f9, Apr  9 2024, 14:05:25) [MSC v.1938 64 bit (AMD64)]\n"
     ]
    },
    {
     "ename": "ModuleNotFoundError",
     "evalue": "No module named 'PIL'",
     "output_type": "error",
     "traceback": [
      "\u001b[1;31m---------------------------------------------------------------------------\u001b[0m",
      "\u001b[1;31mModuleNotFoundError\u001b[0m                       Traceback (most recent call last)",
      "Cell \u001b[1;32mIn[13], line 4\u001b[0m\n\u001b[0;32m      1\u001b[0m \u001b[38;5;28;01mimport\u001b[39;00m \u001b[38;5;21;01msys\u001b[39;00m\n\u001b[0;32m      2\u001b[0m \u001b[38;5;28mprint\u001b[39m(sys\u001b[38;5;241m.\u001b[39mversion)  \u001b[38;5;66;03m# Print Python version\u001b[39;00m\n\u001b[1;32m----> 4\u001b[0m \u001b[38;5;28;01mimport\u001b[39;00m \u001b[38;5;21;01mPIL\u001b[39;00m\n\u001b[0;32m      5\u001b[0m \u001b[38;5;28mprint\u001b[39m(PIL\u001b[38;5;241m.\u001b[39m__version__)  \u001b[38;5;66;03m# Print Pillow version\u001b[39;00m\n",
      "\u001b[1;31mModuleNotFoundError\u001b[0m: No module named 'PIL'"
     ]
    }
   ],
   "source": [
    "import sys\n",
    "print(sys.version)  # Print Python version\n",
    "\n",
    "import PIL\n",
    "print(PIL.__version__)  # Print Pillow version"
   ]
  },
  {
   "cell_type": "code",
   "execution_count": 6,
   "metadata": {},
   "outputs": [
    {
     "name": "stdout",
     "output_type": "stream",
     "text": [
      "An error occurred: PyAutoGUI was unable to import pyscreeze. (This is likely because you're running a version of Python that Pillow (which pyscreeze depends on) doesn't support currently.) Please install this module to enable the function you tried to call.\n"
     ]
    }
   ],
   "source": [
    "import pyautogui\n",
    "import webbrowser\n",
    "import time\n",
    "\n",
    "# Open the website\n",
    "webbrowser.open(\"https://hrms.accessassist.in/\")\n",
    "\n",
    "# Wait for the browser to open and the page to load\n",
    "time.sleep(10)  # Adjust the sleep time if needed based on your internet speed\n",
    "\n",
    "image_path = \"Screenshot 2024-05-29 225016.png\"\n",
    "\n",
    "try:\n",
    "    location = pyautogui.locateOnScreen(image_path)\n",
    "    if location:\n",
    "        center = pyautogui.center(location)\n",
    "        pyautogui.click(center)\n",
    "    else:\n",
    "        print(\"Image not found on the screen.\")\n",
    "except Exception as e:\n",
    "    print(f\"An error occurred: {e}\")\n",
    "\n",
    "\n",
    "# 29-05-2024  22:50             1,353 Screenshot 2024-05-29 225016.png\n",
    "# 29-05-2024  22:53             1,228 Screenshot 2024-05-29 225303.png\n",
    "\n",
    "# what i want is write a while loop and check of the image, if exists click on it.\n"
   ]
  },
  {
   "cell_type": "code",
   "execution_count": 2,
   "metadata": {},
   "outputs": [
    {
     "name": "stdout",
     "output_type": "stream",
     "text": [
      " Volume in drive C has no label.\n",
      " Volume Serial Number is 5A7C-8C20\n",
      "\n",
      " Directory of c:\\Users\\texta\\Documents\\Python Scripts\\personal projects\n",
      "\n",
      "29-05-2024  22:54    <DIR>          .\n",
      "29-05-2024  00:12    <DIR>          ..\n",
      "29-05-2024  01:06           538,899 highest_rated_albums.csv\n",
      "29-05-2024  01:02            63,992 metacritic filters.ipynb\n",
      "29-05-2024  22:50             1,353 Screenshot 2024-05-29 225016.png\n",
      "29-05-2024  22:53             1,228 Screenshot 2024-05-29 225303.png\n",
      "29-05-2024  22:53             1,555 Screenshot 2024-05-29 225311.png\n",
      "29-05-2024  22:53             1,808 Screenshot 2024-05-29 225355.png\n",
      "29-05-2024  22:50             1,010 test.ipynb\n",
      "               7 File(s)        609,845 bytes\n",
      "               2 Dir(s)  88,915,451,904 bytes free\n"
     ]
    }
   ],
   "source": [
    "ls"
   ]
  }
 ],
 "metadata": {
  "kernelspec": {
   "display_name": "Python 3",
   "language": "python",
   "name": "python3"
  },
  "language_info": {
   "codemirror_mode": {
    "name": "ipython",
    "version": 3
   },
   "file_extension": ".py",
   "mimetype": "text/x-python",
   "name": "python",
   "nbconvert_exporter": "python",
   "pygments_lexer": "ipython3",
   "version": "3.12.3"
  }
 },
 "nbformat": 4,
 "nbformat_minor": 2
}
